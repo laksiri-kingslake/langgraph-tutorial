{
 "cells": [
  {
   "cell_type": "code",
   "execution_count": null,
   "metadata": {},
   "outputs": [],
   "source": []
  },
  {
   "cell_type": "code",
   "execution_count": 1,
   "metadata": {},
   "outputs": [],
   "source": [
    "from typing_extensions import TypedDict\n",
    "\n",
    "class State(TypedDict):\n",
    "    message: str\n",
    "    sentiment: str"
   ]
  },
  {
   "cell_type": "code",
   "execution_count": 2,
   "metadata": {},
   "outputs": [],
   "source": [
    "def analyze_sentiment(state):\n",
    "    print(\"---Analyzing Sentiment---\")\n",
    "    text = state[\"message\"].lower()\n",
    "    \n",
    "    # Simple sentiment analysis\n",
    "    if any(word in text for word in [\"good\", \"great\", \"happy\"]):\n",
    "        return {\"sentiment\": \"positive\"}\n",
    "    if any(word in text for word in [\"bad\", \"sad\", \"terrible\"]):\n",
    "        return {\"sentiment\": \"negative\"}\n",
    "    return {\"sentiment\": \"neutral\"}\n",
    "\n",
    "def positive_response(state):\n",
    "    print(\"---Positive Response---\")\n",
    "    return {\"message\": \"Thank you for the positive feedback! 😊\"}\n",
    "\n",
    "def negative_response(state):\n",
    "    print(\"---Negative Response---\")\n",
    "    return {\"message\": \"We’re sorry to hear that. How can we improve? 😞\"}"
   ]
  },
  {
   "cell_type": "code",
   "execution_count": 3,
   "metadata": {},
   "outputs": [],
   "source": [
    "from typing import Literal\n",
    "\n",
    "def sentiment_router(state) -> Literal[\"positive_response\", \"negative_response\"]:\n",
    "    if state[\"sentiment\"] == \"positive\":\n",
    "        return \"positive_response\"\n",
    "    return \"negative_response\""
   ]
  },
  {
   "cell_type": "code",
   "execution_count": 4,
   "metadata": {},
   "outputs": [],
   "source": [
    "from langgraph.graph import StateGraph, START, END\n",
    "\n",
    "# Initialize graph\n",
    "builder = StateGraph(State)\n",
    "\n",
    "# Add nodes\n",
    "builder.add_node(\"analyze_sentiment\", analyze_sentiment)\n",
    "builder.add_node(\"positive_response\", positive_response)\n",
    "builder.add_node(\"negative_response\", negative_response)\n",
    "\n",
    "# Add edges\n",
    "builder.add_edge(START, \"analyze_sentiment\")\n",
    "builder.add_conditional_edges(\"analyze_sentiment\", sentiment_router)\n",
    "builder.add_edge(\"positive_response\", END)\n",
    "builder.add_edge(\"negative_response\", END)\n",
    "\n",
    "# Compile graph\n",
    "graph = builder.compile()"
   ]
  },
  {
   "cell_type": "code",
   "execution_count": 5,
   "metadata": {},
   "outputs": [
    {
     "data": {
      "image/png": "[encoded data removed]",
      "text/plain": [
       "<IPython.core.display.Image object>"
      ]
     },
     "metadata": {},
     "output_type": "display_data"
    }
   ],
   "source": [
    "# Visualize your graph\n",
    "from IPython.display import Image, display\n",
    "png = graph.get_graph().draw_mermaid_png()\n",
    "\n",
    "display(Image(png))"
   ]
  },
  {
   "cell_type": "code",
   "execution_count": 6,
   "metadata": {},
   "outputs": [
    {
     "name": "stdout",
     "output_type": "stream",
     "text": [
      "---Analyzing Sentiment---\n",
      "---Positive Response---\n",
      "{'message': 'Thank you for the positive feedback! 😊', 'sentiment': 'positive'}\n"
     ]
    }
   ],
   "source": [
    "# Invoke the graph with input\n",
    "result = graph.invoke({\"message\": \"I had a great experience!\"})\n",
    "\n",
    "print(result)"
   ]
  }
 ],
 "metadata": {
  "kernelspec": {
   "display_name": "myenv",
   "language": "python",
   "name": "python3"
  },
  "language_info": {
   "codemirror_mode": {
    "name": "ipython",
    "version": 3
   },
   "file_extension": ".py",
   "mimetype": "text/x-python",
   "name": "python",
   "nbconvert_exporter": "python",
   "pygments_lexer": "ipython3",
   "version": "3.12.3"
  }
 },
 "nbformat": 4,
 "nbformat_minor": 2
}
