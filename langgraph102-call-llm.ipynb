{
 "cells": [
  {
   "cell_type": "code",
   "execution_count": 9,
   "metadata": {},
   "outputs": [],
   "source": [
    "# Install LangGraph and langchain packages\n",
    "!pip install --quiet -U langgraph langchain_openai langchain_core"
   ]
  },
  {
   "cell_type": "code",
   "execution_count": 1,
   "metadata": {},
   "outputs": [],
   "source": [
    "import os, getpass\n",
    "def _set_env(var: str):\n",
    "    if not os.environ.get(var):\n",
    "        os.environ[var] = getpass.getpass(f\"{var}: \")"
   ]
  },
  {
   "cell_type": "code",
   "execution_count": 2,
   "metadata": {},
   "outputs": [],
   "source": [
    "_set_env(\"OPENAI_API_KEY\")"
   ]
  },
  {
   "cell_type": "code",
   "execution_count": 3,
   "metadata": {},
   "outputs": [
    {
     "name": "stderr",
     "output_type": "stream",
     "text": [
      "/tmp/ipykernel_33426/1536273511.py:7: LangChainDeprecationWarning: The class `ChatOllama` was deprecated in LangChain 0.3.1 and will be removed in 1.0.0. An updated version of the class exists in the :class:`~langchain-ollama package and should be used instead. To use it run `pip install -U :class:`~langchain-ollama` and import as `from :class:`~langchain_ollama import ChatOllama``.\n",
      "  llm = ChatOllama(\n"
     ]
    }
   ],
   "source": [
    "# from langchain_openai import ChatOpenAI\n",
    "# llm = ChatOpenAI(model='gpt-4o')\n",
    "\n",
    "from langchain_community.chat_models import ChatOllama\n",
    "\n",
    "# Connect to local Ollama server running DeepSeek\n",
    "llm = ChatOllama(\n",
    "    model=\"deepseek\",  # Must match your Ollama model name\n",
    "    base_url=\"http://localhost:11434\",  # Default Ollama URL\n",
    "    temperature=0.7,    # Optional: Adjust creativity (0-1)\n",
    "    # num_ctx=4096,     # Uncomment to match your context window\n",
    "    # num_gpu=20       # Uncomment if you configured GPU layers\n",
    ")"
   ]
  },
  {
   "cell_type": "code",
   "execution_count": 4,
   "metadata": {},
   "outputs": [],
   "source": [
    "# define llm Node\n",
    "def call_llm(message):\n",
    "    return llm.invoke(message)"
   ]
  },
  {
   "cell_type": "code",
   "execution_count": 5,
   "metadata": {},
   "outputs": [],
   "source": [
    "from langgraph.graph import Graph, START, END\n",
    "\n",
    "# Create a new Graph\n",
    "workflow = Graph()\n",
    "# Add the nodes\n",
    "workflow.add_node(\"call_llm\", call_llm)\n",
    "\n",
    "# Add the Edges\n",
    "workflow.add_edge(START, \"call_llm\")\n",
    "workflow.add_edge(\"call_llm\", END)\n",
    "\n",
    "#Compile the workflow\n",
    "app = workflow.compile()"
   ]
  },
  {
   "cell_type": "code",
   "execution_count": 6,
   "metadata": {},
   "outputs": [
    {
     "data": {
      "image/png": "[encoded data removed]",
      "text/plain": [
       "<IPython.core.display.Image object>"
      ]
     },
     "metadata": {},
     "output_type": "display_data"
    }
   ],
   "source": [
    "# Visualize your graph\n",
    "from IPython.display import Image, display\n",
    "display(Image(app.get_graph().draw_mermaid_png()))"
   ]
  },
  {
   "cell_type": "code",
   "execution_count": 7,
   "metadata": {},
   "outputs": [
    {
     "name": "stdout",
     "output_type": "stream",
     "text": [
      "Hello! How can I assist you with your programming or computer science-related queries today? If you have any questions, feel free to ask.\n",
      "\n"
     ]
    }
   ],
   "source": [
    "response = app.invoke(\"hello\")\n",
    "print(response.content)"
   ]
  },
  {
   "cell_type": "code",
   "execution_count": 8,
   "metadata": {},
   "outputs": [
    {
     "name": "stdout",
     "output_type": "stream",
     "text": [
      "Sure, here is a simple Python program that prints \"Hello World\":\n",
      "\n",
      "```python\n",
      "print(\"Hello World\")\n",
      "``` \n",
      "When you run this script in your terminal or command prompt it will display the message 'Hello World'. If running on Jupyter notebook add `%%script echo -e \"\\n\"` before print statement. This is to avoid having an extra newline after each cell execution when using %run magic function, as output from python cells usually comes with a trailing new line by default in jupyter notebooks\n",
      "\n",
      "```python\n",
      "%script echo -e \"\\n\"  # avoids adding additional \\n at end of Jupyter notebook print statements.\n",
      "print(\"Hello World\")   # prints Hello world without newline after each cell execution on running %run magic command within the same note book session .    \n",
      "```    This will be effective only for python cells and not applicable in other languages or outside jupyter notebooks environment  as it is specific to Jupyter notebook's Python kernel. Note also that this doesn’t affect print statements executed directly from terminal/command prompt, nor does %run magic command when used on a separate .py file rather than within the same session of running an ipynb python-notebook script\n",
      "\n"
     ]
    }
   ],
   "source": [
    "response = llm.invoke(\"Give me hello world python code\")\n",
    "print(response.content)"
   ]
  },
  {
   "cell_type": "code",
   "execution_count": 10,
   "metadata": {},
   "outputs": [
    {
     "name": "stdout",
     "output_type": "stream",
     "text": [
      "Hello World\n"
     ]
    }
   ],
   "source": [
    "print(\"Hello World\")"
   ]
  }
 ],
 "metadata": {
  "kernelspec": {
   "display_name": "myenv",
   "language": "python",
   "name": "python3"
  },
  "language_info": {
   "codemirror_mode": {
    "name": "ipython",
    "version": 3
   },
   "file_extension": ".py",
   "mimetype": "text/x-python",
   "name": "python",
   "nbconvert_exporter": "python",
   "pygments_lexer": "ipython3",
   "version": "3.12.3"
  }
 },
 "nbformat": 4,
 "nbformat_minor": 2
}
